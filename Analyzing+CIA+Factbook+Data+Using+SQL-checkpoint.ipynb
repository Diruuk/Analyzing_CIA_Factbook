{
 "cells": [
  {
   "cell_type": "markdown",
   "metadata": {},
   "source": [
    "# Analyzing CIA Factbook Data Using SQL\n",
    "\n",
    "## Introduction:\n",
    "In this project, we'll work with data from the [CIA World Factbook](https://www.cia.gov/the-world-factbook/) a compendium of statistics about all of the countries on Earth. We'll try to answer the following questions using the factbook:\n",
    "\n",
    "* Which countries are densely populated?\n",
    "* Which countries will add the most people to their populations next year?\n",
    "* Which countries have the largest area? Of those, how much of it land, and how much of it is water?\n",
    "\n",
    "This is my first project using SQL, we'll use Jupyter Notebook to analyze data from this database. You can download the database [here](https://dsserver-prod-resources-1.s3.amazonaws.com/257/factbook.db). \n",
    "We'll use the following code to connect our Jupyter Notebook to our database file:"
   ]
  },
  {
   "cell_type": "code",
   "execution_count": 12,
   "metadata": {},
   "outputs": [
    {
     "data": {
      "text/plain": [
       "'Connected: None@factbook.db'"
      ]
     },
     "execution_count": 12,
     "metadata": {},
     "output_type": "execute_result"
    }
   ],
   "source": [
    "import sqlite3\n",
    "import sqlalchemy\n",
    "sqlalchemy.create_engine(\"sqlite:///factbook.db\")\n",
    "%reload_ext sql\n",
    "%sql sqlite:///factbook.db"
   ]
  },
  {
   "cell_type": "markdown",
   "metadata": {},
   "source": [
    "### Overview of Data\n",
    "To find out the table where we will be working from, we'll query the database to get this information directly."
   ]
  },
  {
   "cell_type": "code",
   "execution_count": 14,
   "metadata": {},
   "outputs": [
    {
     "name": "stdout",
     "output_type": "stream",
     "text": [
      "Done.\n"
     ]
    },
    {
     "data": {
      "text/html": [
       "<table>\n",
       "    <tr>\n",
       "        <th>type</th>\n",
       "        <th>name</th>\n",
       "        <th>tbl_name</th>\n",
       "        <th>rootpage</th>\n",
       "        <th>sql</th>\n",
       "    </tr>\n",
       "    <tr>\n",
       "        <td>table</td>\n",
       "        <td>sqlite_sequence</td>\n",
       "        <td>sqlite_sequence</td>\n",
       "        <td>3</td>\n",
       "        <td>CREATE TABLE sqlite_sequence(name,seq)</td>\n",
       "    </tr>\n",
       "    <tr>\n",
       "        <td>table</td>\n",
       "        <td>facts</td>\n",
       "        <td>facts</td>\n",
       "        <td>47</td>\n",
       "        <td>CREATE TABLE &quot;facts&quot; (&quot;id&quot; INTEGER PRIMARY KEY AUTOINCREMENT NOT NULL, &quot;code&quot; varchar(255) NOT NULL, &quot;name&quot; varchar(255) NOT NULL, &quot;area&quot; integer, &quot;area_land&quot; integer, &quot;area_water&quot; integer, &quot;population&quot; integer, &quot;population_growth&quot; float, &quot;birth_rate&quot; float, &quot;death_rate&quot; float, &quot;migration_rate&quot; float)</td>\n",
       "    </tr>\n",
       "</table>"
      ],
      "text/plain": [
       "[('table', 'sqlite_sequence', 'sqlite_sequence', 3, 'CREATE TABLE sqlite_sequence(name,seq)'),\n",
       " ('table', 'facts', 'facts', 47, 'CREATE TABLE \"facts\" (\"id\" INTEGER PRIMARY KEY AUTOINCREMENT NOT NULL, \"code\" varchar(255) NOT NULL, \"name\" varchar(255) NOT NULL, \"area\" integer, \"a ... (4 characters truncated) ... land\" integer, \"area_water\" integer, \"population\" integer, \"population_growth\" float, \"birth_rate\" float, \"death_rate\" float, \"migration_rate\" float)')]"
      ]
     },
     "execution_count": 14,
     "metadata": {},
     "output_type": "execute_result"
    }
   ],
   "source": [
    "%%sql\n",
    "SELECT *\n",
    "  FROM sqlite_master\n",
    " WHERE type='table';"
   ]
  },
  {
   "cell_type": "markdown",
   "metadata": {},
   "source": [
    "Now that we know that the name of our table is <b>facts</b> let's explore a bit."
   ]
  },
  {
   "cell_type": "code",
   "execution_count": 2,
   "metadata": {},
   "outputs": [
    {
     "name": "stdout",
     "output_type": "stream",
     "text": [
      "Done.\n"
     ]
    },
    {
     "data": {
      "text/html": [
       "<table>\n",
       "    <tr>\n",
       "        <th>id</th>\n",
       "        <th>code</th>\n",
       "        <th>name</th>\n",
       "        <th>area</th>\n",
       "        <th>area_land</th>\n",
       "        <th>area_water</th>\n",
       "        <th>population</th>\n",
       "        <th>population_growth</th>\n",
       "        <th>birth_rate</th>\n",
       "        <th>death_rate</th>\n",
       "        <th>migration_rate</th>\n",
       "    </tr>\n",
       "    <tr>\n",
       "        <td>1</td>\n",
       "        <td>af</td>\n",
       "        <td>Afghanistan</td>\n",
       "        <td>652230</td>\n",
       "        <td>652230</td>\n",
       "        <td>0</td>\n",
       "        <td>32564342</td>\n",
       "        <td>2.32</td>\n",
       "        <td>38.57</td>\n",
       "        <td>13.89</td>\n",
       "        <td>1.51</td>\n",
       "    </tr>\n",
       "    <tr>\n",
       "        <td>2</td>\n",
       "        <td>al</td>\n",
       "        <td>Albania</td>\n",
       "        <td>28748</td>\n",
       "        <td>27398</td>\n",
       "        <td>1350</td>\n",
       "        <td>3029278</td>\n",
       "        <td>0.3</td>\n",
       "        <td>12.92</td>\n",
       "        <td>6.58</td>\n",
       "        <td>3.3</td>\n",
       "    </tr>\n",
       "    <tr>\n",
       "        <td>3</td>\n",
       "        <td>ag</td>\n",
       "        <td>Algeria</td>\n",
       "        <td>2381741</td>\n",
       "        <td>2381741</td>\n",
       "        <td>0</td>\n",
       "        <td>39542166</td>\n",
       "        <td>1.84</td>\n",
       "        <td>23.67</td>\n",
       "        <td>4.31</td>\n",
       "        <td>0.92</td>\n",
       "    </tr>\n",
       "    <tr>\n",
       "        <td>4</td>\n",
       "        <td>an</td>\n",
       "        <td>Andorra</td>\n",
       "        <td>468</td>\n",
       "        <td>468</td>\n",
       "        <td>0</td>\n",
       "        <td>85580</td>\n",
       "        <td>0.12</td>\n",
       "        <td>8.13</td>\n",
       "        <td>6.96</td>\n",
       "        <td>0.0</td>\n",
       "    </tr>\n",
       "    <tr>\n",
       "        <td>5</td>\n",
       "        <td>ao</td>\n",
       "        <td>Angola</td>\n",
       "        <td>1246700</td>\n",
       "        <td>1246700</td>\n",
       "        <td>0</td>\n",
       "        <td>19625353</td>\n",
       "        <td>2.78</td>\n",
       "        <td>38.78</td>\n",
       "        <td>11.49</td>\n",
       "        <td>0.46</td>\n",
       "    </tr>\n",
       "</table>"
      ],
      "text/plain": [
       "[(1, 'af', 'Afghanistan', 652230, 652230, 0, 32564342, 2.32, 38.57, 13.89, 1.51),\n",
       " (2, 'al', 'Albania', 28748, 27398, 1350, 3029278, 0.3, 12.92, 6.58, 3.3),\n",
       " (3, 'ag', 'Algeria', 2381741, 2381741, 0, 39542166, 1.84, 23.67, 4.31, 0.92),\n",
       " (4, 'an', 'Andorra', 468, 468, 0, 85580, 0.12, 8.13, 6.96, 0.0),\n",
       " (5, 'ao', 'Angola', 1246700, 1246700, 0, 19625353, 2.78, 38.78, 11.49, 0.46)]"
      ]
     },
     "execution_count": 2,
     "metadata": {},
     "output_type": "execute_result"
    }
   ],
   "source": [
    "%%sql\n",
    "SELECT *\n",
    "  FROM facts\n",
    " LIMIT 5;"
   ]
  },
  {
   "cell_type": "markdown",
   "metadata": {},
   "source": [
    "Here are the descriptions for some of the columns:\n",
    "\n",
    "* `name` — the name of the country.\n",
    "* `area` — the country's total area (both land and water).\n",
    "* `area_land` — the country's land area in square kilometers.\n",
    "* `area_water` — the country's waterarea in square kilometers.\n",
    "* `population` — the country's population.\n",
    "* `population_growth` — the country's population growth as a percentage.\n",
    "* `birth_rate` — the country's birth rate, or the number of births per year per 1,000 people.\n",
    "* `death_rate` — the country's death rate, or the number of death per year per 1,000 people.\n",
    "\n",
    "Let's start by calculating some summary statistics and look for any outlier countries."
   ]
  },
  {
   "cell_type": "code",
   "execution_count": 3,
   "metadata": {
    "scrolled": true
   },
   "outputs": [
    {
     "name": "stdout",
     "output_type": "stream",
     "text": [
      "Done.\n"
     ]
    },
    {
     "data": {
      "text/html": [
       "<table>\n",
       "    <tr>\n",
       "        <th>min_pop</th>\n",
       "        <th>max_pop</th>\n",
       "        <th>min_pop_grwth</th>\n",
       "        <th>max_pop_grwth</th>\n",
       "    </tr>\n",
       "    <tr>\n",
       "        <td>0</td>\n",
       "        <td>7256490011</td>\n",
       "        <td>0.0</td>\n",
       "        <td>4.02</td>\n",
       "    </tr>\n",
       "</table>"
      ],
      "text/plain": [
       "[(0, 7256490011, 0.0, 4.02)]"
      ]
     },
     "execution_count": 3,
     "metadata": {},
     "output_type": "execute_result"
    }
   ],
   "source": [
    "%%sql\n",
    "SELECT MIN(population) as min_pop, \n",
    "       MAX(population) as max_pop, \n",
    "       MIN(population_growth) as min_pop_grwth, \n",
    "       MAX(population_growth) as max_pop_grwth\n",
    "  FROM facts"
   ]
  },
  {
   "cell_type": "markdown",
   "metadata": {},
   "source": [
    "### Exploring Outliers:\n",
    "\n",
    "We see a few interesting things in the summary statistics on the previous table:\n",
    "\n",
    "* There's a country with a population of <b>0</b>\n",
    "* There's a country with a population of <b>7256490011</b> (or more than 7.2 billion people)\n",
    "\n",
    "Let's use subqueries to zoom in on just these countries <i>without</i> using the specific values.\n",
    "\n",
    "We'll:\n",
    "\n",
    "1. Write a query that returns the countries with the minimum population.\n",
    "2. Write a query that returns the countries with the maximum population."
   ]
  },
  {
   "cell_type": "code",
   "execution_count": 4,
   "metadata": {},
   "outputs": [
    {
     "name": "stdout",
     "output_type": "stream",
     "text": [
      "Done.\n"
     ]
    },
    {
     "data": {
      "text/html": [
       "<table>\n",
       "    <tr>\n",
       "        <th>id</th>\n",
       "        <th>code</th>\n",
       "        <th>name</th>\n",
       "        <th>area</th>\n",
       "        <th>area_land</th>\n",
       "        <th>area_water</th>\n",
       "        <th>population</th>\n",
       "        <th>population_growth</th>\n",
       "        <th>birth_rate</th>\n",
       "        <th>death_rate</th>\n",
       "        <th>migration_rate</th>\n",
       "    </tr>\n",
       "    <tr>\n",
       "        <td>250</td>\n",
       "        <td>ay</td>\n",
       "        <td>Antarctica</td>\n",
       "        <td>None</td>\n",
       "        <td>280000</td>\n",
       "        <td>None</td>\n",
       "        <td>0</td>\n",
       "        <td>None</td>\n",
       "        <td>None</td>\n",
       "        <td>None</td>\n",
       "        <td>None</td>\n",
       "    </tr>\n",
       "</table>"
      ],
      "text/plain": [
       "[(250, 'ay', 'Antarctica', None, 280000, None, 0, None, None, None, None)]"
      ]
     },
     "execution_count": 4,
     "metadata": {},
     "output_type": "execute_result"
    }
   ],
   "source": [
    "%%sql\n",
    "SELECT *\n",
    "  FROM facts\n",
    "WHERE population == (SELECT MIN(population)\n",
    "                          FROM facts)"
   ]
  },
  {
   "cell_type": "code",
   "execution_count": 5,
   "metadata": {
    "scrolled": true
   },
   "outputs": [
    {
     "name": "stdout",
     "output_type": "stream",
     "text": [
      "Done.\n"
     ]
    },
    {
     "data": {
      "text/html": [
       "<table>\n",
       "    <tr>\n",
       "        <th>id</th>\n",
       "        <th>code</th>\n",
       "        <th>name</th>\n",
       "        <th>area</th>\n",
       "        <th>area_land</th>\n",
       "        <th>area_water</th>\n",
       "        <th>population</th>\n",
       "        <th>population_growth</th>\n",
       "        <th>birth_rate</th>\n",
       "        <th>death_rate</th>\n",
       "        <th>migration_rate</th>\n",
       "    </tr>\n",
       "    <tr>\n",
       "        <td>261</td>\n",
       "        <td>xx</td>\n",
       "        <td>World</td>\n",
       "        <td>None</td>\n",
       "        <td>None</td>\n",
       "        <td>None</td>\n",
       "        <td>7256490011</td>\n",
       "        <td>1.08</td>\n",
       "        <td>18.6</td>\n",
       "        <td>7.8</td>\n",
       "        <td>None</td>\n",
       "    </tr>\n",
       "</table>"
      ],
      "text/plain": [
       "[(261, 'xx', 'World', None, None, None, 7256490011, 1.08, 18.6, 7.8, None)]"
      ]
     },
     "execution_count": 5,
     "metadata": {},
     "output_type": "execute_result"
    }
   ],
   "source": [
    "%%sql\n",
    "SELECT *\n",
    "  FROM facts\n",
    "WHERE population == (SELECT MAX(population)\n",
    "                          FROM facts)"
   ]
  },
  {
   "cell_type": "code",
   "execution_count": 6,
   "metadata": {},
   "outputs": [
    {
     "name": "stdout",
     "output_type": "stream",
     "text": [
      "Done.\n"
     ]
    },
    {
     "data": {
      "text/html": [
       "<table>\n",
       "    <tr>\n",
       "        <th>name</th>\n",
       "        <th>population ascending</th>\n",
       "    </tr>\n",
       "    <tr>\n",
       "        <td>Southern Ocean</td>\n",
       "        <td>None</td>\n",
       "    </tr>\n",
       "    <tr>\n",
       "        <td>Antarctica</td>\n",
       "        <td>0</td>\n",
       "    </tr>\n",
       "    <tr>\n",
       "        <td>Pitcairn Islands</td>\n",
       "        <td>48</td>\n",
       "    </tr>\n",
       "    <tr>\n",
       "        <td>Cocos (Keeling) Islands</td>\n",
       "        <td>596</td>\n",
       "    </tr>\n",
       "    <tr>\n",
       "        <td>Holy See (Vatican City)</td>\n",
       "        <td>842</td>\n",
       "    </tr>\n",
       "</table>"
      ],
      "text/plain": [
       "[('Southern Ocean', None),\n",
       " ('Antarctica', 0),\n",
       " ('Pitcairn Islands', 48),\n",
       " ('Cocos (Keeling) Islands', 596),\n",
       " ('Holy See (Vatican City)', 842)]"
      ]
     },
     "execution_count": 6,
     "metadata": {},
     "output_type": "execute_result"
    }
   ],
   "source": [
    "%%sql\n",
    "SELECT name, population AS 'population ascending'\n",
    "  FROM facts\n",
    " GROUP BY population\n",
    " ORDER BY 'population ascending' ASC\n",
    " LIMIT 5;"
   ]
  },
  {
   "cell_type": "code",
   "execution_count": 11,
   "metadata": {},
   "outputs": [
    {
     "name": "stdout",
     "output_type": "stream",
     "text": [
      "Done.\n"
     ]
    },
    {
     "data": {
      "text/html": [
       "<table>\n",
       "    <tr>\n",
       "        <th>name</th>\n",
       "        <th>population descending</th>\n",
       "    </tr>\n",
       "    <tr>\n",
       "        <td>World</td>\n",
       "        <td>7256490011</td>\n",
       "    </tr>\n",
       "    <tr>\n",
       "        <td>China</td>\n",
       "        <td>1367485388</td>\n",
       "    </tr>\n",
       "    <tr>\n",
       "        <td>India</td>\n",
       "        <td>1251695584</td>\n",
       "    </tr>\n",
       "    <tr>\n",
       "        <td>European Union</td>\n",
       "        <td>513949445</td>\n",
       "    </tr>\n",
       "    <tr>\n",
       "        <td>United States</td>\n",
       "        <td>321368864</td>\n",
       "    </tr>\n",
       "</table>"
      ],
      "text/plain": [
       "[('World', 7256490011),\n",
       " ('China', 1367485388),\n",
       " ('India', 1251695584),\n",
       " ('European Union', 513949445),\n",
       " ('United States', 321368864)]"
      ]
     },
     "execution_count": 11,
     "metadata": {},
     "output_type": "execute_result"
    }
   ],
   "source": [
    "%%sql\n",
    "SELECT name, population AS 'population descending'\n",
    "  FROM facts\n",
    "GROUP BY population\n",
    "ORDER BY population DESC \n",
    "LIMIT 5;"
   ]
  },
  {
   "cell_type": "markdown",
   "metadata": {},
   "source": [
    "## Exploring Average Population and Area:\n",
    "It seems like the table contains a row for the whole world, which explains the population of over 7.2 billion. It also seems like the table contains a row for Antarctica, which explains the population of 0. This seems to match the CIA Factbook page for [Antarctica](https://www.cia.gov/library/publications/the-world-factbook/geos/ay.html).\n",
    "<p><img src=\"https://s3.amazonaws.com/dq-content/257/fb_antarctica.png\"></p>"
   ]
  },
  {
   "cell_type": "markdown",
   "metadata": {},
   "source": [
    "Let's calculate the summary statistics again, this time excluding the entire row: `World`."
   ]
  },
  {
   "cell_type": "code",
   "execution_count": 8,
   "metadata": {},
   "outputs": [
    {
     "name": "stdout",
     "output_type": "stream",
     "text": [
      "Done.\n"
     ]
    },
    {
     "data": {
      "text/html": [
       "<table>\n",
       "    <tr>\n",
       "        <th>min_pop</th>\n",
       "        <th>max_pop</th>\n",
       "        <th>min_pop_growth</th>\n",
       "        <th>max_pop_growth</th>\n",
       "    </tr>\n",
       "    <tr>\n",
       "        <td>0</td>\n",
       "        <td>1367485388</td>\n",
       "        <td>0.0</td>\n",
       "        <td>4.02</td>\n",
       "    </tr>\n",
       "</table>"
      ],
      "text/plain": [
       "[(0, 1367485388, 0.0, 4.02)]"
      ]
     },
     "execution_count": 8,
     "metadata": {},
     "output_type": "execute_result"
    }
   ],
   "source": [
    "%%sql\n",
    "SELECT MIN(population) AS min_pop,\n",
    "       MAX(population) AS max_pop,\n",
    "       MIN(population_growth) AS min_pop_growth,\n",
    "       MAX(population_growth) AS max_pop_growth \n",
    "  FROM facts\n",
    " WHERE name != 'World';"
   ]
  },
  {
   "cell_type": "markdown",
   "metadata": {},
   "source": [
    "### Exploring Average Population and Area\n",
    "Let's now explore population density. Population density depends on the population and the country's area. Let's look at the average values for these two columns."
   ]
  },
  {
   "cell_type": "code",
   "execution_count": 16,
   "metadata": {},
   "outputs": [
    {
     "name": "stdout",
     "output_type": "stream",
     "text": [
      "Done.\n"
     ]
    },
    {
     "data": {
      "text/html": [
       "<table>\n",
       "    <tr>\n",
       "        <th>avg_population</th>\n",
       "        <th>avg_area</th>\n",
       "    </tr>\n",
       "    <tr>\n",
       "        <td>32242666.56846473</td>\n",
       "        <td>555093.546184739</td>\n",
       "    </tr>\n",
       "</table>"
      ],
      "text/plain": [
       "[(32242666.56846473, 555093.546184739)]"
      ]
     },
     "execution_count": 16,
     "metadata": {},
     "output_type": "execute_result"
    }
   ],
   "source": [
    "%%sql\n",
    "SELECT AVG(population) AS avg_population, AVG(area) AS avg_area\n",
    "  FROM facts\n",
    " WHERE name != 'World'; --# We need this exclusion for a proper aggregation."
   ]
  },
  {
   "cell_type": "markdown",
   "metadata": {},
   "source": [
    "### Finding Densely Populated Countries:\n",
    "\n",
    "To finish, we'll build on the query we wrote for the previous screen to find countries that are densely populated.  We'll identify countries that have the following:\n",
    "\n",
    "* Above-average values for population.\n",
    "* Below-average values for area.\n",
    "\n",
    "It's possible to write this query by copying the values we calculated on the previous screen, but also to do this without hard-coding them!\n",
    "    \n",
    "Next we'll: write a query that finds all countries meeting both of the following criteria:\n",
    "* The `population` that is above average.\n",
    "* The `area` that is below average."
   ]
  },
  {
   "cell_type": "code",
   "execution_count": 22,
   "metadata": {
    "scrolled": true
   },
   "outputs": [
    {
     "name": "stdout",
     "output_type": "stream",
     "text": [
      "Done.\n"
     ]
    },
    {
     "data": {
      "text/html": [
       "<table>\n",
       "    <tr>\n",
       "        <th>name</th>\n",
       "        <th>population</th>\n",
       "        <th>area</th>\n",
       "        <th>pop_area_ratio</th>\n",
       "    </tr>\n",
       "    <tr>\n",
       "        <td>Bangladesh</td>\n",
       "        <td>168957745</td>\n",
       "        <td>148460</td>\n",
       "        <td>1138.07</td>\n",
       "    </tr>\n",
       "    <tr>\n",
       "        <td>Germany</td>\n",
       "        <td>80854408</td>\n",
       "        <td>357022</td>\n",
       "        <td>226.47</td>\n",
       "    </tr>\n",
       "    <tr>\n",
       "        <td>Iraq</td>\n",
       "        <td>37056169</td>\n",
       "        <td>438317</td>\n",
       "        <td>84.54</td>\n",
       "    </tr>\n",
       "    <tr>\n",
       "        <td>Italy</td>\n",
       "        <td>61855120</td>\n",
       "        <td>301340</td>\n",
       "        <td>205.27</td>\n",
       "    </tr>\n",
       "    <tr>\n",
       "        <td>Japan</td>\n",
       "        <td>126919659</td>\n",
       "        <td>377915</td>\n",
       "        <td>335.84</td>\n",
       "    </tr>\n",
       "    <tr>\n",
       "        <td>Korea, South</td>\n",
       "        <td>49115196</td>\n",
       "        <td>99720</td>\n",
       "        <td>492.53</td>\n",
       "    </tr>\n",
       "    <tr>\n",
       "        <td>Morocco</td>\n",
       "        <td>33322699</td>\n",
       "        <td>446550</td>\n",
       "        <td>74.62</td>\n",
       "    </tr>\n",
       "    <tr>\n",
       "        <td>Philippines</td>\n",
       "        <td>100998376</td>\n",
       "        <td>300000</td>\n",
       "        <td>336.66</td>\n",
       "    </tr>\n",
       "    <tr>\n",
       "        <td>Poland</td>\n",
       "        <td>38562189</td>\n",
       "        <td>312685</td>\n",
       "        <td>123.33</td>\n",
       "    </tr>\n",
       "    <tr>\n",
       "        <td>Spain</td>\n",
       "        <td>48146134</td>\n",
       "        <td>505370</td>\n",
       "        <td>95.27</td>\n",
       "    </tr>\n",
       "    <tr>\n",
       "        <td>Thailand</td>\n",
       "        <td>67976405</td>\n",
       "        <td>513120</td>\n",
       "        <td>132.48</td>\n",
       "    </tr>\n",
       "    <tr>\n",
       "        <td>Uganda</td>\n",
       "        <td>37101745</td>\n",
       "        <td>241038</td>\n",
       "        <td>153.92</td>\n",
       "    </tr>\n",
       "    <tr>\n",
       "        <td>United Kingdom</td>\n",
       "        <td>64088222</td>\n",
       "        <td>243610</td>\n",
       "        <td>263.08</td>\n",
       "    </tr>\n",
       "    <tr>\n",
       "        <td>Vietnam</td>\n",
       "        <td>94348835</td>\n",
       "        <td>331210</td>\n",
       "        <td>284.86</td>\n",
       "    </tr>\n",
       "</table>"
      ],
      "text/plain": [
       "[('Bangladesh', 168957745, 148460, 1138.07),\n",
       " ('Germany', 80854408, 357022, 226.47),\n",
       " ('Iraq', 37056169, 438317, 84.54),\n",
       " ('Italy', 61855120, 301340, 205.27),\n",
       " ('Japan', 126919659, 377915, 335.84),\n",
       " ('Korea, South', 49115196, 99720, 492.53),\n",
       " ('Morocco', 33322699, 446550, 74.62),\n",
       " ('Philippines', 100998376, 300000, 336.66),\n",
       " ('Poland', 38562189, 312685, 123.33),\n",
       " ('Spain', 48146134, 505370, 95.27),\n",
       " ('Thailand', 67976405, 513120, 132.48),\n",
       " ('Uganda', 37101745, 241038, 153.92),\n",
       " ('United Kingdom', 64088222, 243610, 263.08),\n",
       " ('Vietnam', 94348835, 331210, 284.86)]"
      ]
     },
     "execution_count": 22,
     "metadata": {},
     "output_type": "execute_result"
    }
   ],
   "source": [
    "%%sql\n",
    "SELECT name, population, area, ROUND(CAST(population AS float)/CAST(area AS float), 2) AS pop_area_ratio\n",
    "  FROM facts\n",
    " WHERE population > (SELECT AVG(population)\n",
    "                       FROM facts\n",
    "                      WHERE name != 'World'\n",
    "                    )\n",
    "   AND area < (SELECT AVG(area)\n",
    "                 FROM facts\n",
    "                WHERE name != 'World'\n",
    ");"
   ]
  },
  {
   "cell_type": "markdown",
   "metadata": {
    "collapsed": true
   },
   "source": [
    "Let's calculate the population to area ratio."
   ]
  },
  {
   "cell_type": "code",
   "execution_count": 24,
   "metadata": {},
   "outputs": [
    {
     "name": "stdout",
     "output_type": "stream",
     "text": [
      "Done.\n"
     ]
    },
    {
     "data": {
      "text/html": [
       "<table>\n",
       "    <tr>\n",
       "        <th>name</th>\n",
       "        <th>population</th>\n",
       "        <th>area</th>\n",
       "        <th>pop_area_ratio</th>\n",
       "    </tr>\n",
       "    <tr>\n",
       "        <td>Macau</td>\n",
       "        <td>592731</td>\n",
       "        <td>28</td>\n",
       "        <td>21168.96</td>\n",
       "    </tr>\n",
       "    <tr>\n",
       "        <td>Monaco</td>\n",
       "        <td>30535</td>\n",
       "        <td>2</td>\n",
       "        <td>15267.5</td>\n",
       "    </tr>\n",
       "    <tr>\n",
       "        <td>Singapore</td>\n",
       "        <td>5674472</td>\n",
       "        <td>697</td>\n",
       "        <td>8141.28</td>\n",
       "    </tr>\n",
       "    <tr>\n",
       "        <td>Hong Kong</td>\n",
       "        <td>7141106</td>\n",
       "        <td>1108</td>\n",
       "        <td>6445.04</td>\n",
       "    </tr>\n",
       "    <tr>\n",
       "        <td>Gaza Strip</td>\n",
       "        <td>1869055</td>\n",
       "        <td>360</td>\n",
       "        <td>5191.82</td>\n",
       "    </tr>\n",
       "    <tr>\n",
       "        <td>Gibraltar</td>\n",
       "        <td>29258</td>\n",
       "        <td>6</td>\n",
       "        <td>4876.33</td>\n",
       "    </tr>\n",
       "    <tr>\n",
       "        <td>Bahrain</td>\n",
       "        <td>1346613</td>\n",
       "        <td>760</td>\n",
       "        <td>1771.86</td>\n",
       "    </tr>\n",
       "    <tr>\n",
       "        <td>Maldives</td>\n",
       "        <td>393253</td>\n",
       "        <td>298</td>\n",
       "        <td>1319.64</td>\n",
       "    </tr>\n",
       "    <tr>\n",
       "        <td>Malta</td>\n",
       "        <td>413965</td>\n",
       "        <td>316</td>\n",
       "        <td>1310.02</td>\n",
       "    </tr>\n",
       "    <tr>\n",
       "        <td>Bermuda</td>\n",
       "        <td>70196</td>\n",
       "        <td>54</td>\n",
       "        <td>1299.93</td>\n",
       "    </tr>\n",
       "    <tr>\n",
       "        <td>Sint Maarten</td>\n",
       "        <td>39689</td>\n",
       "        <td>34</td>\n",
       "        <td>1167.32</td>\n",
       "    </tr>\n",
       "    <tr>\n",
       "        <td>Bangladesh</td>\n",
       "        <td>168957745</td>\n",
       "        <td>148460</td>\n",
       "        <td>1138.07</td>\n",
       "    </tr>\n",
       "</table>"
      ],
      "text/plain": [
       "[('Macau', 592731, 28, 21168.96),\n",
       " ('Monaco', 30535, 2, 15267.5),\n",
       " ('Singapore', 5674472, 697, 8141.28),\n",
       " ('Hong Kong', 7141106, 1108, 6445.04),\n",
       " ('Gaza Strip', 1869055, 360, 5191.82),\n",
       " ('Gibraltar', 29258, 6, 4876.33),\n",
       " ('Bahrain', 1346613, 760, 1771.86),\n",
       " ('Maldives', 393253, 298, 1319.64),\n",
       " ('Malta', 413965, 316, 1310.02),\n",
       " ('Bermuda', 70196, 54, 1299.93),\n",
       " ('Sint Maarten', 39689, 34, 1167.32),\n",
       " ('Bangladesh', 168957745, 148460, 1138.07)]"
      ]
     },
     "execution_count": 24,
     "metadata": {},
     "output_type": "execute_result"
    }
   ],
   "source": [
    "%%sql\n",
    "SELECT name, population, area, ROUND(CAST(population AS float)/CAST(area AS float), 2) AS pop_area_ratio\n",
    "  FROM facts\n",
    " WHERE name <> 'World'\n",
    "ORDER BY pop_area_ratio DESC\n",
    "LIMIT 12;"
   ]
  },
  {
   "cell_type": "markdown",
   "metadata": {},
   "source": [
    "Macau is the most densely populated nation.\n",
    "\n",
    "On comparing the above 2 cells, we would expect atleast 80-90% of the countries to match in both the queries. The reason that this did not happen is due to the comparitively low value of area which resulted in a higher population to area ratio in the second query. This means that there are much smaller countries, by area, that are supporting more people within their borders. \n",
    "\n",
    "Nevertheless, we can conclude that the countries in the first query have high populations, but relative to their much smaller counterparts, aren't nearly as densely populated. With the exception of Bangladesh. While it's population to area ratio isn't in the top 10. Given that it's in the top 12. It is impressive that Bangladesh can support such a population given it's area.\n",
    "### Population Growth"
   ]
  },
  {
   "cell_type": "code",
   "execution_count": 19,
   "metadata": {},
   "outputs": [
    {
     "name": "stdout",
     "output_type": "stream",
     "text": [
      "Done.\n"
     ]
    },
    {
     "data": {
      "text/html": [
       "<table>\n",
       "    <tr>\n",
       "        <th>name</th>\n",
       "        <th>current_pop</th>\n",
       "        <th>population_growth</th>\n",
       "        <th>estimated_pop_next_year</th>\n",
       "    </tr>\n",
       "    <tr>\n",
       "        <td>India</td>\n",
       "        <td>1251695584</td>\n",
       "        <td>1.22</td>\n",
       "        <td>1527068612.48</td>\n",
       "    </tr>\n",
       "    <tr>\n",
       "        <td>China</td>\n",
       "        <td>1367485388</td>\n",
       "        <td>0.45</td>\n",
       "        <td>615368424.6</td>\n",
       "    </tr>\n",
       "    <tr>\n",
       "        <td>Nigeria</td>\n",
       "        <td>181562056</td>\n",
       "        <td>2.45</td>\n",
       "        <td>444827037.2</td>\n",
       "    </tr>\n",
       "    <tr>\n",
       "        <td>Pakistan</td>\n",
       "        <td>199085847</td>\n",
       "        <td>1.46</td>\n",
       "        <td>290665336.62</td>\n",
       "    </tr>\n",
       "    <tr>\n",
       "        <td>Ethiopia</td>\n",
       "        <td>99465819</td>\n",
       "        <td>2.89</td>\n",
       "        <td>287456216.91</td>\n",
       "    </tr>\n",
       "    <tr>\n",
       "        <td>Bangladesh</td>\n",
       "        <td>168957745</td>\n",
       "        <td>1.6</td>\n",
       "        <td>270332392.0</td>\n",
       "    </tr>\n",
       "    <tr>\n",
       "        <td>United States</td>\n",
       "        <td>321368864</td>\n",
       "        <td>0.78</td>\n",
       "        <td>250667713.92</td>\n",
       "    </tr>\n",
       "    <tr>\n",
       "        <td>Indonesia</td>\n",
       "        <td>255993674</td>\n",
       "        <td>0.92</td>\n",
       "        <td>235514180.08</td>\n",
       "    </tr>\n",
       "    <tr>\n",
       "        <td>Congo, Democratic Republic of the</td>\n",
       "        <td>79375136</td>\n",
       "        <td>2.45</td>\n",
       "        <td>194469083.2</td>\n",
       "    </tr>\n",
       "    <tr>\n",
       "        <td>Philippines</td>\n",
       "        <td>100998376</td>\n",
       "        <td>1.61</td>\n",
       "        <td>162607385.36</td>\n",
       "    </tr>\n",
       "</table>"
      ],
      "text/plain": [
       "[('India', 1251695584, 1.22, 1527068612.48),\n",
       " ('China', 1367485388, 0.45, 615368424.6),\n",
       " ('Nigeria', 181562056, 2.45, 444827037.2),\n",
       " ('Pakistan', 199085847, 1.46, 290665336.62),\n",
       " ('Ethiopia', 99465819, 2.89, 287456216.91),\n",
       " ('Bangladesh', 168957745, 1.6, 270332392.0),\n",
       " ('United States', 321368864, 0.78, 250667713.92),\n",
       " ('Indonesia', 255993674, 0.92, 235514180.08),\n",
       " ('Congo, Democratic Republic of the', 79375136, 2.45, 194469083.2),\n",
       " ('Philippines', 100998376, 1.61, 162607385.36)]"
      ]
     },
     "execution_count": 19,
     "metadata": {},
     "output_type": "execute_result"
    }
   ],
   "source": [
    "%%sql\n",
    "SELECT  name, population AS current_pop, population_growth, \n",
    "        ROUND(population*population_growth, 2) AS estimated_pop_next_year \n",
    "  FROM facts\n",
    " WHERE name <> 'World'\n",
    "ORDER BY estimated_pop_next_year DESC\n",
    "LIMIT 10;"
   ]
  },
  {
   "cell_type": "markdown",
   "metadata": {},
   "source": [
    "It is estimated that <b>India's</b> population will grow the most, not by growth rate, but by force of their large population. You can see in the table below that India's growth rate isn't even in the top 10 for growth rate."
   ]
  },
  {
   "cell_type": "code",
   "execution_count": 21,
   "metadata": {},
   "outputs": [
    {
     "name": "stdout",
     "output_type": "stream",
     "text": [
      "Done.\n"
     ]
    },
    {
     "data": {
      "text/html": [
       "<table>\n",
       "    <tr>\n",
       "        <th>name</th>\n",
       "        <th>current_pop</th>\n",
       "        <th>population_growth</th>\n",
       "    </tr>\n",
       "    <tr>\n",
       "        <td>South Sudan</td>\n",
       "        <td>12042910</td>\n",
       "        <td>4.02</td>\n",
       "    </tr>\n",
       "    <tr>\n",
       "        <td>Malawi</td>\n",
       "        <td>17964697</td>\n",
       "        <td>3.32</td>\n",
       "    </tr>\n",
       "    <tr>\n",
       "        <td>Burundi</td>\n",
       "        <td>10742276</td>\n",
       "        <td>3.28</td>\n",
       "    </tr>\n",
       "    <tr>\n",
       "        <td>Niger</td>\n",
       "        <td>18045729</td>\n",
       "        <td>3.25</td>\n",
       "    </tr>\n",
       "    <tr>\n",
       "        <td>Uganda</td>\n",
       "        <td>37101745</td>\n",
       "        <td>3.24</td>\n",
       "    </tr>\n",
       "    <tr>\n",
       "        <td>Qatar</td>\n",
       "        <td>2194817</td>\n",
       "        <td>3.07</td>\n",
       "    </tr>\n",
       "    <tr>\n",
       "        <td>Burkina Faso</td>\n",
       "        <td>18931686</td>\n",
       "        <td>3.03</td>\n",
       "    </tr>\n",
       "    <tr>\n",
       "        <td>Mali</td>\n",
       "        <td>16955536</td>\n",
       "        <td>2.98</td>\n",
       "    </tr>\n",
       "    <tr>\n",
       "        <td>Cook Islands</td>\n",
       "        <td>9838</td>\n",
       "        <td>2.95</td>\n",
       "    </tr>\n",
       "    <tr>\n",
       "        <td>Iraq</td>\n",
       "        <td>37056169</td>\n",
       "        <td>2.93</td>\n",
       "    </tr>\n",
       "</table>"
      ],
      "text/plain": [
       "[('South Sudan', 12042910, 4.02),\n",
       " ('Malawi', 17964697, 3.32),\n",
       " ('Burundi', 10742276, 3.28),\n",
       " ('Niger', 18045729, 3.25),\n",
       " ('Uganda', 37101745, 3.24),\n",
       " ('Qatar', 2194817, 3.07),\n",
       " ('Burkina Faso', 18931686, 3.03),\n",
       " ('Mali', 16955536, 2.98),\n",
       " ('Cook Islands', 9838, 2.95),\n",
       " ('Iraq', 37056169, 2.93)]"
      ]
     },
     "execution_count": 21,
     "metadata": {},
     "output_type": "execute_result"
    }
   ],
   "source": [
    "%%sql\n",
    "SELECT  name, population AS current_pop, population_growth\n",
    "FROM facts\n",
    " WHERE name <> 'World'\n",
    "ORDER BY population_growth DESC\n",
    "LIMIT 10;"
   ]
  },
  {
   "cell_type": "markdown",
   "metadata": {},
   "source": [
    "### Countries with the Largest Area"
   ]
  },
  {
   "cell_type": "code",
   "execution_count": 26,
   "metadata": {},
   "outputs": [
    {
     "name": "stdout",
     "output_type": "stream",
     "text": [
      "Done.\n"
     ]
    },
    {
     "data": {
      "text/html": [
       "<table>\n",
       "    <tr>\n",
       "        <th>name</th>\n",
       "        <th>area</th>\n",
       "        <th>area_water</th>\n",
       "        <th>area_land</th>\n",
       "        <th>Water_land_ratio</th>\n",
       "    </tr>\n",
       "    <tr>\n",
       "        <td>Russia</td>\n",
       "        <td>17098242</td>\n",
       "        <td>720500</td>\n",
       "        <td>16377742</td>\n",
       "        <td>0.04</td>\n",
       "    </tr>\n",
       "    <tr>\n",
       "        <td>Canada</td>\n",
       "        <td>9984670</td>\n",
       "        <td>891163</td>\n",
       "        <td>9093507</td>\n",
       "        <td>0.1</td>\n",
       "    </tr>\n",
       "    <tr>\n",
       "        <td>United States</td>\n",
       "        <td>9826675</td>\n",
       "        <td>664709</td>\n",
       "        <td>9161966</td>\n",
       "        <td>0.07</td>\n",
       "    </tr>\n",
       "    <tr>\n",
       "        <td>China</td>\n",
       "        <td>9596960</td>\n",
       "        <td>270550</td>\n",
       "        <td>9326410</td>\n",
       "        <td>0.03</td>\n",
       "    </tr>\n",
       "    <tr>\n",
       "        <td>Brazil</td>\n",
       "        <td>8515770</td>\n",
       "        <td>157630</td>\n",
       "        <td>8358140</td>\n",
       "        <td>0.02</td>\n",
       "    </tr>\n",
       "    <tr>\n",
       "        <td>Australia</td>\n",
       "        <td>7741220</td>\n",
       "        <td>58920</td>\n",
       "        <td>7682300</td>\n",
       "        <td>0.01</td>\n",
       "    </tr>\n",
       "    <tr>\n",
       "        <td>European Union</td>\n",
       "        <td>4324782</td>\n",
       "        <td>None</td>\n",
       "        <td>None</td>\n",
       "        <td>None</td>\n",
       "    </tr>\n",
       "    <tr>\n",
       "        <td>India</td>\n",
       "        <td>3287263</td>\n",
       "        <td>314070</td>\n",
       "        <td>2973193</td>\n",
       "        <td>0.11</td>\n",
       "    </tr>\n",
       "    <tr>\n",
       "        <td>Argentina</td>\n",
       "        <td>2780400</td>\n",
       "        <td>43710</td>\n",
       "        <td>2736690</td>\n",
       "        <td>0.02</td>\n",
       "    </tr>\n",
       "    <tr>\n",
       "        <td>Kazakhstan</td>\n",
       "        <td>2724900</td>\n",
       "        <td>25200</td>\n",
       "        <td>2699700</td>\n",
       "        <td>0.01</td>\n",
       "    </tr>\n",
       "</table>"
      ],
      "text/plain": [
       "[('Russia', 17098242, 720500, 16377742, 0.04),\n",
       " ('Canada', 9984670, 891163, 9093507, 0.1),\n",
       " ('United States', 9826675, 664709, 9161966, 0.07),\n",
       " ('China', 9596960, 270550, 9326410, 0.03),\n",
       " ('Brazil', 8515770, 157630, 8358140, 0.02),\n",
       " ('Australia', 7741220, 58920, 7682300, 0.01),\n",
       " ('European Union', 4324782, None, None, None),\n",
       " ('India', 3287263, 314070, 2973193, 0.11),\n",
       " ('Argentina', 2780400, 43710, 2736690, 0.02),\n",
       " ('Kazakhstan', 2724900, 25200, 2699700, 0.01)]"
      ]
     },
     "execution_count": 26,
     "metadata": {},
     "output_type": "execute_result"
    }
   ],
   "source": [
    "%%sql\n",
    "SELECT name, area, area_water, area_land,\n",
    "       ROUND(CAST(area_water AS Float)/CAST(area_land AS Float), 2) AS Water_land_ratio\n",
    "  FROM facts\n",
    " WHERE name <> 'World'\n",
    "ORDER BY area DESC\n",
    " LIMIT 10;"
   ]
  },
  {
   "cell_type": "markdown",
   "metadata": {},
   "source": [
    "We can see that Russia and Canada is #1 and #2, respectively. What is interesting is that while the United States is #3, it has less land area than China. What could explain why the United States has much more water area is that it has two large coast lines in the east and west. Alaska, it's largest state, has an enormous coast line. Also, the United States has many overseas territories in the Pacific that contributes to `area_water`. China just doesn't have those things."
   ]
  },
  {
   "cell_type": "markdown",
   "metadata": {},
   "source": [
    "## Conclusion\n",
    "We started this project wanting to answer the following questions using the factbook:\n",
    "\n",
    "<p>#1) Which countries are densely populated?</p>\n",
    "<p>#2) Which countries will add the most people to their populations next year?</p>\n",
    "<p>#3) Which countries have the largest area? Of those, how much of it land, and how much of it is water?</p>\n",
    "\n",
    "We accomplished what we set out to do.\n",
    "\n",
    "<p>#1) Macau is the most densely populated nation. While Bangladesh isn't nearly as dense. It is still within the top 12 of the most densely populated nations while also supporting an enormous population.</p>\n",
    "<p>#2) India is going to add the most number people, not only because of it's growth rate, but also because of it's large population.</p>\n",
    "<p>#3) Russia and Canada are the largest countries by `area` and `land_area`. What was interesting is that while the United States is #3 in terms of total `area`. It actually has a smaller `land_area` than China.</p>"
   ]
  },
  {
   "cell_type": "code",
   "execution_count": null,
   "metadata": {
    "collapsed": true
   },
   "outputs": [],
   "source": []
  }
 ],
 "metadata": {
  "kernelspec": {
   "display_name": "Python 3 (ipykernel)",
   "language": "python",
   "name": "python3"
  },
  "language_info": {
   "codemirror_mode": {
    "name": "ipython",
    "version": 3
   },
   "file_extension": ".py",
   "mimetype": "text/x-python",
   "name": "python",
   "nbconvert_exporter": "python",
   "pygments_lexer": "ipython3",
   "version": "3.8.11"
  }
 },
 "nbformat": 4,
 "nbformat_minor": 2
}
